{
 "cells": [
  {
   "cell_type": "markdown",
   "id": "c4aa3d8d",
   "metadata": {},
   "source": [
    "## ESPN Fantasy Baseball Keeper Tracker\n",
    "\n",
    "Description: pull keeper value for private fantasy baseball league"
   ]
  },
  {
   "cell_type": "markdown",
   "id": "95df9dbb",
   "metadata": {},
   "source": [
    "#### Libraries & User Input"
   ]
  },
  {
   "cell_type": "code",
   "execution_count": null,
   "id": "4dac774b",
   "metadata": {},
   "outputs": [],
   "source": [
    "import requests\n",
    "import pandas as pd\n",
    "import numpy as np\n",
    "import json"
   ]
  },
  {
   "cell_type": "code",
   "execution_count": null,
   "id": "7eba6004",
   "metadata": {},
   "outputs": [],
   "source": [
    "# user id tag\n",
    "swid      = ''\n",
    "\n",
    "# espn cookie\n",
    "espn_s2   = ''\n",
    "\n",
    "# user \n",
    "league_id = \n",
    "\n",
    "# season for league\n",
    "season    = \n",
    "\n",
    "# run date\n",
    "run_date = '20220616'\n",
    "\n",
    "# csv export path (including .csv file suffix)\n",
    "export_path = f'espn_fb_keeper_value_{run_date}.csv'\n",
    "\n"
   ]
  },
  {
   "cell_type": "markdown",
   "id": "f9c32005",
   "metadata": {},
   "source": [
    "Player Table"
   ]
  },
  {
   "cell_type": "code",
   "execution_count": null,
   "id": "b162ecca",
   "metadata": {},
   "outputs": [],
   "source": [
    "# url for league (updated based on user input above)\n",
    "url = f'https://fantasy.espn.com/apis/v3/games/flb/seasons/{season}/segments/0/leagues/{league_id}'\n",
    "\n",
    "# force pull to include up to limit # of players\n",
    "# otherwise, espn default pull includes only a fraction of players\n",
    "filters = {\n",
    "  \"players\": {\n",
    "    \"limit\": 10000,\n",
    "    \"sortDraftRanks\": {\n",
    "      \"sortPriority\": 100,\n",
    "      \"sortAsc\": True,\n",
    "      \"value\": \"STANDARD\"\n",
    "    }\n",
    "  }\n",
    "} \n",
    "headers = {'x-fantasy-filter': json.dumps(filters)}\n",
    "        \n",
    "# fetch player data\n",
    "player_req = requests.get(url + '?view=kona_player_info',\n",
    "                params={'scoringPeriodId': 0},\n",
    "                cookies={\"SWID\": swid, \"espn_s2\": espn_s2},\n",
    "                headers=headers)\n",
    "player_json = player_req.json()\n",
    "\n",
    "# run through each player and append keeper info to list\n",
    "# make dataframe from combined list\n",
    "player_list = []\n",
    "for player in player_json['players']:\n",
    "    player_name = player['player']['fullName']\n",
    "    player_id = player['id']\n",
    "    team_id = player['onTeamId']\n",
    "    keeper_value = player['keeperValue']\n",
    "    future_keeper_value = player['keeperValueFuture']\n",
    "  \n",
    "    player_list.append([player_name,\n",
    "                        player_id,\n",
    "                        team_id,\n",
    "                        future_keeper_value])\n",
    "    \n",
    "\n",
    "player_df = pd.DataFrame(player_list, \n",
    "                    columns=['player', 'player_id','team_id','keeper_value'])\n",
    "\n",
    "# display head\n",
    "player_df.head(10)\n",
    "    "
   ]
  },
  {
   "cell_type": "markdown",
   "id": "6eba9e26",
   "metadata": {},
   "source": [
    "#### Export Data"
   ]
  },
  {
   "cell_type": "code",
   "execution_count": null,
   "id": "d1058bd1",
   "metadata": {},
   "outputs": [],
   "source": [
    "player_df.to_csv('espn_ffb_player_value_test.csv', index=False)"
   ]
  }
 ],
 "metadata": {
  "interpreter": {
   "hash": "25034407fed5d681614dac11a1c0537e8cb49e3a8883c071303eea01322943d9"
  },
  "kernelspec": {
   "display_name": "Python 3.9.5 64-bit",
   "language": "python",
   "name": "python3"
  },
  "language_info": {
   "codemirror_mode": {
    "name": "ipython",
    "version": 3
   },
   "file_extension": ".py",
   "mimetype": "text/x-python",
   "name": "python",
   "nbconvert_exporter": "python",
   "pygments_lexer": "ipython3",
   "version": "3.9.5"
  }
 },
 "nbformat": 4,
 "nbformat_minor": 5
}
